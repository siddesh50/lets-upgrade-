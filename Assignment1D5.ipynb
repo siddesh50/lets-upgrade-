{
 "cells": [
  {
   "cell_type": "markdown",
   "metadata": {},
   "source": [
    "# Assignment1 Day5"
   ]
  },
  {
   "cell_type": "code",
   "execution_count": 3,
   "metadata": {},
   "outputs": [],
   "source": [
    "def SubList(lis):\n",
    "    k=0\n",
    "    sublst=[1,1,5]\n",
    "    sublst1=[]\n",
    "    for i in range(0,len(sublst)):\n",
    "        for j in range(k,len(lis)):\n",
    "            if lis[j]==sublst[i]:\n",
    "                sublst1.append(lis[j])\n",
    "                k=j+1\n",
    "                break\n",
    "    print(sublst1)\n",
    "    if sublst==sublst1:\n",
    "        print(\"It's a Match\")\n",
    "    else:\n",
    "        print(\"It's Gone\")\n",
    "    \n",
    "    "
   ]
  },
  {
   "cell_type": "code",
   "execution_count": 4,
   "metadata": {},
   "outputs": [
    {
     "name": "stdout",
     "output_type": "stream",
     "text": [
      "[1, 1, 5]\n",
      "It's a Match\n"
     ]
    }
   ],
   "source": [
    "lis=[1,5,6,4,1,2,3,5]\n",
    "SubList(lis)"
   ]
  },
  {
   "cell_type": "code",
   "execution_count": 5,
   "metadata": {},
   "outputs": [
    {
     "name": "stdout",
     "output_type": "stream",
     "text": [
      "[1, 1]\n",
      "It's Gone\n"
     ]
    }
   ],
   "source": [
    "lis=[1,5,6,5,1,2,3,6]\n",
    "SubList(lis)"
   ]
  },
  {
   "cell_type": "code",
   "execution_count": null,
   "metadata": {},
   "outputs": [],
   "source": []
  },
  {
   "cell_type": "code",
   "execution_count": null,
   "metadata": {},
   "outputs": [],
   "source": []
  }
 ],
 "metadata": {
  "kernelspec": {
   "display_name": "Python 3",
   "language": "python",
   "name": "python3"
  },
  "language_info": {
   "codemirror_mode": {
    "name": "ipython",
    "version": 3
   },
   "file_extension": ".py",
   "mimetype": "text/x-python",
   "name": "python",
   "nbconvert_exporter": "python",
   "pygments_lexer": "ipython3",
   "version": "3.8.3"
  }
 },
 "nbformat": 4,
 "nbformat_minor": 4
}
